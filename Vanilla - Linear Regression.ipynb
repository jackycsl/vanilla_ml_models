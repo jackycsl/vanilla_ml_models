{
 "cells": [
  {
   "cell_type": "code",
   "execution_count": 1,
   "metadata": {},
   "outputs": [],
   "source": [
    "%matplotlib inline\n",
    "%load_ext autoreload\n",
    "%autoreload 2"
   ]
  },
  {
   "cell_type": "code",
   "execution_count": 2,
   "metadata": {},
   "outputs": [],
   "source": [
    "import numpy as np\n",
    "import matplotlib.pyplot as plt"
   ]
  },
  {
   "cell_type": "code",
   "execution_count": 3,
   "metadata": {},
   "outputs": [],
   "source": [
    "from IPython.core.debugger import set_trace"
   ]
  },
  {
   "cell_type": "markdown",
   "metadata": {},
   "source": [
    "## Generate some data"
   ]
  },
  {
   "cell_type": "code",
   "execution_count": 4,
   "metadata": {},
   "outputs": [],
   "source": [
    "def gen_lin_data(a, b, num):\n",
    "    x = np.arange(0, num)\n",
    "    y = (a*x+b) + (2*np.random.random((num)))\n",
    "    return x, y"
   ]
  },
  {
   "cell_type": "code",
   "execution_count": 47,
   "metadata": {},
   "outputs": [],
   "source": [
    "x, y = gen_lin_data(1, 1, 10)"
   ]
  },
  {
   "cell_type": "code",
   "execution_count": 48,
   "metadata": {},
   "outputs": [
    {
     "data": {
      "image/png": "[encoded data removed]",
      "text/plain": [
       "<matplotlib.figure.Figure at 0x110207b00>"
      ]
     },
     "metadata": {},
     "output_type": "display_data"
    }
   ],
   "source": [
    "plt.scatter(x, y);"
   ]
  },
  {
   "cell_type": "markdown",
   "metadata": {},
   "source": [
    "## Notes"
   ]
  },
  {
   "cell_type": "markdown",
   "metadata": {},
   "source": [
    "Most basic and common form of predictive analysis. It is a linear approach to model the relationshop between a dependant variable(Y) and a few independant variables(X)\n",
    "\n",
    "### Can be optimised with\n",
    "- closed form \n",
    "- gradient descend"
   ]
  },
  {
   "cell_type": "markdown",
   "metadata": {},
   "source": [
    "## Linear Regression Closed Form Solution"
   ]
  },
  {
   "cell_type": "code",
   "execution_count": 24,
   "metadata": {},
   "outputs": [],
   "source": [
    "# implement based on the notes https://mysite.du.edu/~jcalvert/econ/regress.htm\n",
    "# For y = b0 * x + b1 , where b0 = covariance(x,y)/variance(x) B1 = mean(y) - B1 mean(x)m \n",
    "\n",
    "class LinearRegressionClosed:\n",
    "    def __init__(self):\n",
    "        self.b0 = None\n",
    "        self.b1 = None\n",
    "    \n",
    "    def fit(self, x, y):\n",
    "        self.b0 = np.cov(x, y)[0][1]/np.var(x)\n",
    "        self.b1 = np.mean(y) - self.b0 * np.mean(x)\n",
    "    \n",
    "    def predict(self, x):\n",
    "        y = [(self.b0 *i + self.b1) for i in x]\n",
    "        return y"
   ]
  },
  {
   "cell_type": "code",
   "execution_count": 25,
   "metadata": {},
   "outputs": [],
   "source": [
    "LR = LinearRegressionClosed()\n",
    "LR.fit(x, y)"
   ]
  },
  {
   "cell_type": "code",
   "execution_count": 26,
   "metadata": {},
   "outputs": [
    {
     "data": {
      "image/png": "[encoded data removed]",
      "text/plain": [
       "<matplotlib.figure.Figure at 0x11baf7208>"
      ]
     },
     "metadata": {},
     "output_type": "display_data"
    }
   ],
   "source": [
    "x_fit = range(10)\n",
    "y_fit = LR.predict(x)\n",
    "plt.scatter(x, y)\n",
    "plt.plot(x_fit, y_fit)\n",
    "plt.show()"
   ]
  },
  {
   "cell_type": "markdown",
   "metadata": {},
   "source": [
    "## Linear Regression SGD"
   ]
  },
  {
   "cell_type": "code",
   "execution_count": 49,
   "metadata": {},
   "outputs": [],
   "source": [
    "class LinearRegression(object):\n",
    "\n",
    "    def __init__(self):\n",
    "        self.W = None\n",
    "\n",
    "    def train(self, X, y, learning_rate=1e-3, num_iters=200):\n",
    "        num_train, dim = X.shape\n",
    "        num_classes = y.shape[1]\n",
    "        \n",
    "        if self.W is None:\n",
    "            self.W = 0.001 * np.random.randn(dim, num_classes)\n",
    "        \n",
    "        loss_history = []\n",
    "        \n",
    "        for it in range(num_iters):\n",
    "            loss, grad = self.loss(X, y)\n",
    "            loss_history.append(loss)\n",
    "\n",
    "            self.W += -learning_rate * grad\n",
    "                    \n",
    "            if it % 50 == 0:\n",
    "                print('iteration %d / %d: loss %f' % (it, num_iters, loss))\n",
    "                \n",
    "        return loss_history  \n",
    "    \n",
    "    def loss(self, X, y):\n",
    "        loss = 0.0\n",
    "        dW = np.zeros_like(self.W)\n",
    "        \n",
    "        # Forward pass\n",
    "        scores = X.dot(self.W)\n",
    "        \n",
    "        # compute loss\n",
    "        loss = np.sum((np.square(scores-y)))\n",
    "        \n",
    "        # compute gradient\n",
    "        dscores = scores - y\n",
    "        dW = X.T.dot(dscores)\n",
    "\n",
    "        return loss, dW\n",
    "    \n",
    "    def predict(self, X):\n",
    "        y_pred = X.dot(self.W) \n",
    "        return y_pred"
   ]
  },
  {
   "cell_type": "code",
   "execution_count": 61,
   "metadata": {
    "scrolled": true
   },
   "outputs": [
    {
     "name": "stdout",
     "output_type": "stream",
     "text": [
      "iteration 0 / 200: loss 501.029597\n",
      "iteration 50 / 200: loss 12.711199\n",
      "iteration 100 / 200: loss 12.711199\n",
      "iteration 150 / 200: loss 12.711199\n"
     ]
    }
   ],
   "source": [
    "x_new = x.reshape((x.shape[0],-1))\n",
    "y_new = y.reshape((y.shape[0],-1))\n",
    "model = LinearRegression()\n",
    "loss_history = model.train(x_new, y_new, learning_rate=0.005, num_iters=200)"
   ]
  },
  {
   "cell_type": "code",
   "execution_count": 54,
   "metadata": {},
   "outputs": [],
   "source": [
    "x_fit = np.arange(10).reshape((10,1))\n",
    "y_fit = model.predict(x_fit)"
   ]
  },
  {
   "cell_type": "code",
   "execution_count": 52,
   "metadata": {},
   "outputs": [
    {
     "data": {
      "image/png": "[encoded data removed]",
      "text/plain": [
       "<matplotlib.figure.Figure at 0x10ffc50b8>"
      ]
     },
     "metadata": {},
     "output_type": "display_data"
    }
   ],
   "source": [
    "plt.scatter(x,y)\n",
    "plt.plot(x_fit, y_fit)\n",
    "plt.show()"
   ]
  },
  {
   "cell_type": "markdown",
   "metadata": {},
   "source": [
    "## Linear Regression with Scikit Learn"
   ]
  },
  {
   "cell_type": "code",
   "execution_count": 82,
   "metadata": {},
   "outputs": [
    {
     "data": {
      "text/plain": [
       "LinearRegression(copy_X=True, fit_intercept=True, n_jobs=1, normalize=False)"
      ]
     },
     "execution_count": 82,
     "metadata": {},
     "output_type": "execute_result"
    }
   ],
   "source": [
    "from sklearn import linear_model\n",
    "SK_model = linear_model.LinearRegression()\n",
    "SK_model.fit(x_new,y_new)"
   ]
  },
  {
   "cell_type": "code",
   "execution_count": 83,
   "metadata": {},
   "outputs": [],
   "source": [
    "x_fit = np.arange(10).reshape((10,1))\n",
    "y_fit = SK_model.predict(x_fit)"
   ]
  },
  {
   "cell_type": "code",
   "execution_count": 84,
   "metadata": {},
   "outputs": [
    {
     "data": {
      "image/png": "[encoded data removed]",
      "text/plain": [
       "<matplotlib.figure.Figure at 0x11d20a8d0>"
      ]
     },
     "metadata": {},
     "output_type": "display_data"
    }
   ],
   "source": [
    "plt.scatter(x,y)\n",
    "plt.plot(x_fit, y_fit)\n",
    "plt.show()"
   ]
  }
 ],
 "metadata": {
  "kernelspec": {
   "display_name": "Python 3",
   "language": "python",
   "name": "python3"
  },
  "language_info": {
   "codemirror_mode": {
    "name": "ipython",
    "version": 3
   },
   "file_extension": ".py",
   "mimetype": "text/x-python",
   "name": "python",
   "nbconvert_exporter": "python",
   "pygments_lexer": "ipython3",
   "version": "3.6.4"
  }
 },
 "nbformat": 4,
 "nbformat_minor": 2
}
